{
  "nbformat": 4,
  "nbformat_minor": 0,
  "metadata": {
    "colab": {
      "provenance": [],
      "authorship_tag": "ABX9TyO4YZgLMhDrGxB0jjeKB+/L",
      "include_colab_link": true
    },
    "kernelspec": {
      "name": "python3",
      "display_name": "Python 3"
    },
    "language_info": {
      "name": "python"
    }
  },
  "cells": [
    {
      "cell_type": "markdown",
      "metadata": {
        "id": "view-in-github",
        "colab_type": "text"
      },
      "source": [
        "<a href=\"https://colab.research.google.com/github/MarkClarenceRodriguez/58010-DSAA/blob/main/Queues.ipynb\" target=\"_parent\"><img src=\"https://colab.research.google.com/assets/colab-badge.svg\" alt=\"Open In Colab\"/></a>"
      ]
    },
    {
      "cell_type": "code",
      "execution_count": null,
      "metadata": {
        "colab": {
          "base_uri": "https://localhost:8080/"
        },
        "id": "vtI0TZLEKU72",
        "outputId": "f8a395ff-b364-4ff3-9557-20cb1d3dff21"
      },
      "outputs": [
        {
          "output_type": "stream",
          "name": "stdout",
          "text": [
            "['A', 'B', 'C']\n",
            "[]\n"
          ]
        }
      ],
      "source": [
        "queue=[]\n",
        "#insert element in the queue, enqueue\n",
        "queue.append('A')\n",
        "queue.append('B')\n",
        "queue.append('C')\n",
        "print(queue)\n",
        "\n",
        "#removing element in the queue, dequeue\n",
        "queue.pop(0)\n",
        "queue.pop(0)\n",
        "queue.pop(0)\n",
        "print(queue)"
      ]
    },
    {
      "cell_type": "code",
      "source": [
        "class queue:\n",
        "  def __init__(self):\n",
        "    self.queue = []\n",
        "  def add(self, dataval):\n",
        "    if dataval not in self.queue:\n",
        "      self.queue.append(dataval)\n",
        "      return True\n",
        "    else:\n",
        "     return False\n",
        "  def remove(self):\n",
        "    if len(self.queue) <= 0:\n",
        "      return (\"No element in the Stack\")\n",
        "    else:\n",
        "      return self.queue.pop()\n",
        "\n",
        "\n",
        "queue = queue()\n",
        "queue.add(\"Mon\")\n",
        "queue.add(\"Tue\")\n",
        "queue.add(\"Wed\")\n",
        "queue.add(\"Thu\")\n",
        "queue.add(\"Fri\")\n",
        "queue.add(\"Sat\")\n",
        "queue.add(\"Sun\")\n",
        "print(queue.queue)\n",
        "print(queue.remove())\n",
        "print(queue.queue)\n"
      ],
      "metadata": {
        "colab": {
          "base_uri": "https://localhost:8080/"
        },
        "id": "8gXsRYB5M_QR",
        "outputId": "8fd163ef-c601-4f47-c66b-8d1fc38dfa5b"
      },
      "execution_count": null,
      "outputs": [
        {
          "output_type": "stream",
          "name": "stdout",
          "text": [
            "['Mon', 'Tue', 'Wed', 'Thu', 'Fri', 'Sat', 'Sun']\n",
            "Sun\n",
            "['Mon', 'Tue', 'Wed', 'Thu', 'Fri', 'Sat']\n"
          ]
        }
      ]
    },
    {
      "cell_type": "markdown",
      "source": [
        "Activity 4\n",
        "\n",
        "Create a Python program that will traverse all integers (1 to 50) from the list, enqueue those integers that are even in the list, and dequeue afterward until the list becomes empty."
      ],
      "metadata": {
        "id": "z2kQ-8tnOtIg"
      }
    },
    {
      "cell_type": "code",
      "source": [
        "queue = []\n",
        "\n",
        "for x in range(1,51):\n",
        "  if x % 2 == 0:\n",
        "   queue.append(x)\n",
        "print(queue)\n",
        "for y in range(25):\n",
        " queue.pop(0)\n",
        " print(queue)"
      ],
      "metadata": {
        "id": "zPjmcganOvex",
        "colab": {
          "base_uri": "https://localhost:8080/"
        },
        "outputId": "348ca8ad-091a-4946-d52d-7f902f19dffe"
      },
      "execution_count": 52,
      "outputs": [
        {
          "output_type": "stream",
          "name": "stdout",
          "text": [
            "[2, 4, 6, 8, 10, 12, 14, 16, 18, 20, 22, 24, 26, 28, 30, 32, 34, 36, 38, 40, 42, 44, 46, 48, 50]\n",
            "[4, 6, 8, 10, 12, 14, 16, 18, 20, 22, 24, 26, 28, 30, 32, 34, 36, 38, 40, 42, 44, 46, 48, 50]\n",
            "[6, 8, 10, 12, 14, 16, 18, 20, 22, 24, 26, 28, 30, 32, 34, 36, 38, 40, 42, 44, 46, 48, 50]\n",
            "[8, 10, 12, 14, 16, 18, 20, 22, 24, 26, 28, 30, 32, 34, 36, 38, 40, 42, 44, 46, 48, 50]\n",
            "[10, 12, 14, 16, 18, 20, 22, 24, 26, 28, 30, 32, 34, 36, 38, 40, 42, 44, 46, 48, 50]\n",
            "[12, 14, 16, 18, 20, 22, 24, 26, 28, 30, 32, 34, 36, 38, 40, 42, 44, 46, 48, 50]\n",
            "[14, 16, 18, 20, 22, 24, 26, 28, 30, 32, 34, 36, 38, 40, 42, 44, 46, 48, 50]\n",
            "[16, 18, 20, 22, 24, 26, 28, 30, 32, 34, 36, 38, 40, 42, 44, 46, 48, 50]\n",
            "[18, 20, 22, 24, 26, 28, 30, 32, 34, 36, 38, 40, 42, 44, 46, 48, 50]\n",
            "[20, 22, 24, 26, 28, 30, 32, 34, 36, 38, 40, 42, 44, 46, 48, 50]\n",
            "[22, 24, 26, 28, 30, 32, 34, 36, 38, 40, 42, 44, 46, 48, 50]\n",
            "[24, 26, 28, 30, 32, 34, 36, 38, 40, 42, 44, 46, 48, 50]\n",
            "[26, 28, 30, 32, 34, 36, 38, 40, 42, 44, 46, 48, 50]\n",
            "[28, 30, 32, 34, 36, 38, 40, 42, 44, 46, 48, 50]\n",
            "[30, 32, 34, 36, 38, 40, 42, 44, 46, 48, 50]\n",
            "[32, 34, 36, 38, 40, 42, 44, 46, 48, 50]\n",
            "[34, 36, 38, 40, 42, 44, 46, 48, 50]\n",
            "[36, 38, 40, 42, 44, 46, 48, 50]\n",
            "[38, 40, 42, 44, 46, 48, 50]\n",
            "[40, 42, 44, 46, 48, 50]\n",
            "[42, 44, 46, 48, 50]\n",
            "[44, 46, 48, 50]\n",
            "[46, 48, 50]\n",
            "[48, 50]\n",
            "[50]\n",
            "[]\n"
          ]
        }
      ]
    }
  ]
}