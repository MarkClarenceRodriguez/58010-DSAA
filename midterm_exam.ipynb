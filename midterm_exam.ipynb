{
  "nbformat": 4,
  "nbformat_minor": 0,
  "metadata": {
    "colab": {
      "provenance": [],
      "authorship_tag": "ABX9TyPjAE53Q0yCQVQVux+enwcF",
      "include_colab_link": true
    },
    "kernelspec": {
      "name": "python3",
      "display_name": "Python 3"
    },
    "language_info": {
      "name": "python"
    }
  },
  "cells": [
    {
      "cell_type": "markdown",
      "metadata": {
        "id": "view-in-github",
        "colab_type": "text"
      },
      "source": [
        "<a href=\"https://colab.research.google.com/github/MarkClarenceRodriguez/58010-DSAA/blob/main/midterm_exam.ipynb\" target=\"_parent\"><img src=\"https://colab.research.google.com/assets/colab-badge.svg\" alt=\"Open In Colab\"/></a>"
      ]
    },
    {
      "cell_type": "code",
      "execution_count": 9,
      "metadata": {
        "colab": {
          "base_uri": "https://localhost:8080/"
        },
        "id": "y8Q1EiuhbvFB",
        "outputId": "fbbdc650-23f8-4de2-99de-8ff486dbae2c"
      },
      "outputs": [
        {
          "output_type": "stream",
          "name": "stdout",
          "text": [
            "[{'A', 'B'}, {'C', 'B'}, {'B', 'E'}, {'F', 'B'}, {'C', 'D'}, {'C', 'E'}, {'C', 'F'}, {'C', 'I'}, {'C', 'M'}, {'K', 'D'}, {'L', 'D'}, {'N', 'E'}, {'G', 'F'}, {'I', 'F'}, {'G', 'I'}, {'J', 'G'}, {'J', 'I'}, {'I', 'K'}, {'J', 'K'}, {'L', 'M'}, {'P', 'L'}, {'N', 'M'}, {'M', 'O'}, {'P', 'M'}, {'N', 'O'}, {'P', 'O'}]\n"
          ]
        }
      ],
      "source": [
        "class graph:\n",
        "   def __init__(self,gdict=None):\n",
        "      if gdict is None:\n",
        "         gdict = {}\n",
        "      self.gdict = gdict\n",
        "\n",
        "   def edges(self):\n",
        "      return self.findedges()\n",
        "# Find the distinct list of edges\n",
        "   def findedges(self):\n",
        "      edgename = []\n",
        "      for vrtx in self.gdict:\n",
        "         for nxtvrtx in self.gdict[vrtx]:\n",
        "            if {nxtvrtx, vrtx} not in edgename:\n",
        "               edgename.append({vrtx, nxtvrtx})\n",
        "      return edgename\n",
        "# Create the dictionary with graph elements\n",
        "graph_elements = {\n",
        "   \"A\" : [\"B\"],\n",
        "   \"B\" : [\"C\",\"E\",\"F\"],\n",
        "   \"C\" : [\"D\",\"E\",\"F\",\"I\",\"M\"],\n",
        "   \"D\" : [\"K\",\"L\"],\n",
        "   \"E\" : [\"N\"],\n",
        "   \"F\" : [\"G\",\"I\"],\n",
        "   \"G\" : [\"I\",\"J\"],\n",
        "   \"I\" : [\"J\",\"K\"],\n",
        "   \"J\" : [\"K\"],\n",
        "   \"K\" : [\"D\"],\n",
        "   \"L\" : [\"M\",\"P\"],\n",
        "   \"M\" : [\"N\",\"O\",\"P\"],\n",
        "   \"N\" : [\"O\"],\n",
        "   \"O\" : [\"P\"],\n",
        "   \"P\" : [\"O\"],\n",
        "}\n",
        "g = graph(graph_elements)\n",
        "print(g.edges())"
      ]
    },
    {
      "cell_type": "code",
      "source": [
        "class graph:\n",
        "   def __init__(self,gdict=None):\n",
        "      if gdict is None:\n",
        "         gdict = []\n",
        "      self.gdict = gdict\n",
        "# Get the keys of the dictionary\n",
        "   def getVertices(self):\n",
        "      return list(self.gdict.keys())\n",
        "# Create the dictionary with graph elements\n",
        "graph_elements = {\n",
        "   \"A\" : [\"B\"],\n",
        "   \"B\" : [\"C\",\"E\", \"F\"],\n",
        "   \"C\" : [\"D\",\"E\",\"F\",\"I\",\"M\"],\n",
        "   \"D\" : [\"K\",\"L\"],\n",
        "   \"E\" : [\"N\"],\n",
        "   \"F\" : [\"G\",\"I\"],\n",
        "   \"G\" : [\"I\",\"J\"],\n",
        "   \"I\" : [\"J\",\"K\"],\n",
        "   \"J\" : [\"K\"],\n",
        "   \"K\" : [\"D\"],\n",
        "   \"L\" : [\"M\",\"P\"],\n",
        "   \"M\" : [\"N\",\"O\",\"P\"],\n",
        "   \"N\" : [\"O\"],\n",
        "   \"O\" : [\"P\"],\n",
        "   \"P\" : [\"O\"],\n",
        "}\n",
        "g = graph(graph_elements)\n",
        "print(g.getVertices())"
      ],
      "metadata": {
        "colab": {
          "base_uri": "https://localhost:8080/"
        },
        "id": "qQyg2FpljoYW",
        "outputId": "67be42bc-724d-45ad-80d1-329a7412ebef"
      },
      "execution_count": 10,
      "outputs": [
        {
          "output_type": "stream",
          "name": "stdout",
          "text": [
            "['A', 'B', 'C', 'D', 'E', 'F', 'G', 'I', 'J', 'K', 'L', 'M', 'N', 'O', 'P']\n"
          ]
        }
      ]
    }
  ]
}