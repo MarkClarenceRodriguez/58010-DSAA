{
  "nbformat": 4,
  "nbformat_minor": 0,
  "metadata": {
    "colab": {
      "provenance": [],
      "authorship_tag": "ABX9TyPLw4eDuemrSvACw8iJf+py",
      "include_colab_link": true
    },
    "kernelspec": {
      "name": "python3",
      "display_name": "Python 3"
    },
    "language_info": {
      "name": "python"
    }
  },
  "cells": [
    {
      "cell_type": "markdown",
      "metadata": {
        "id": "view-in-github",
        "colab_type": "text"
      },
      "source": [
        "<a href=\"https://colab.research.google.com/github/MarkClarenceRodriguez/58010-DSAA/blob/main/Activity1(Array).ipynb\" target=\"_parent\"><img src=\"https://colab.research.google.com/assets/colab-badge.svg\" alt=\"Open In Colab\"/></a>"
      ]
    },
    {
      "cell_type": "markdown",
      "source": [
        "1. Write a Python program to create an array of 10 integers and display the array items. Access individual elements through indexes and compute for the sum.\n",
        "\n"
      ],
      "metadata": {
        "id": "Vip5Gn5k5wiD"
      }
    },
    {
      "cell_type": "code",
      "execution_count": 25,
      "metadata": {
        "colab": {
          "base_uri": "https://localhost:8080/"
        },
        "id": "kJL-VpfA5ks7",
        "outputId": "d59dd668-a30e-4482-88a7-45fde75001b9"
      },
      "outputs": [
        {
          "output_type": "stream",
          "name": "stdout",
          "text": [
            "1\n",
            "2\n",
            "3\n",
            "4\n",
            "5\n",
            "6\n",
            "7\n",
            "8\n",
            "9\n",
            "10\n",
            "The sum of the array is:  55\n"
          ]
        }
      ],
      "source": [
        "array = [1, 2, 3, 4, 5, 6, 7, 8, 9, 10]\n",
        "for x in array:\n",
        "  print (x)\n",
        "  ans = sum(array)\n",
        "print(\"The sum of the array is: \" ,ans)"
      ]
    },
    {
      "cell_type": "markdown",
      "source": [
        "2. Write a Python program to append a new item to the end of the array. Original array: numbers = [1, 2, 3, 4, 5, 6, 7, 8, 9, 10]"
      ],
      "metadata": {
        "id": "9pyBDfsk7r-_"
      }
    },
    {
      "cell_type": "code",
      "source": [
        "array_numbers = [1, 2, 3, 4, 5, 6, 7, 8, 9, 10]\n",
        "array_numbers.append(11)\n",
        "print(array_numbers)"
      ],
      "metadata": {
        "colab": {
          "base_uri": "https://localhost:8080/"
        },
        "id": "QqSiD0HK7_Cf",
        "outputId": "b4d4debc-e405-405c-ddd1-5b6fca32db49"
      },
      "execution_count": 18,
      "outputs": [
        {
          "output_type": "stream",
          "name": "stdout",
          "text": [
            "[1, 2, 3, 4, 5, 6, 7, 8, 9, 10, 11]\n"
          ]
        }
      ]
    },
    {
      "cell_type": "markdown",
      "source": [
        "3. Write a Python program to insert a new item before the second element in an existing array. Original array: numbers = [1, 2, 3, 4, 5, 6, 7, 8, 9, 10]"
      ],
      "metadata": {
        "id": "btfg6GXj7yw_"
      }
    },
    {
      "cell_type": "code",
      "source": [
        "array_numbers = [1, 2, 3, 4, 5, 6, 7, 8, 9, 10]\n",
        "array_numbers.insert(1,1.7)\n",
        "print(array_numbers)"
      ],
      "metadata": {
        "colab": {
          "base_uri": "https://localhost:8080/"
        },
        "id": "VlLCdwcm8rd2",
        "outputId": "9d570492-40c7-43b0-c4fd-8ff55d5e3377"
      },
      "execution_count": 19,
      "outputs": [
        {
          "output_type": "stream",
          "name": "stdout",
          "text": [
            "[1, 1.7, 2, 3, 4, 5, 6, 7, 8, 9, 10]\n"
          ]
        }
      ]
    },
    {
      "cell_type": "markdown",
      "source": [
        "4. Write a Python program to reverse the order of the items in the array.Original array: numbers = [5, 4, 3, 2, 1]"
      ],
      "metadata": {
        "id": "5PeGHLkJ709n"
      }
    },
    {
      "cell_type": "code",
      "source": [
        "array_numbers = [5, 4, 3, 2, 1]\n",
        "array_numbers.reverse()\n",
        "print(array_numbers)"
      ],
      "metadata": {
        "colab": {
          "base_uri": "https://localhost:8080/"
        },
        "id": "CnpfaExw9j5-",
        "outputId": "823a4c7f-9cb5-444c-9246-2ca256046a14"
      },
      "execution_count": 20,
      "outputs": [
        {
          "output_type": "stream",
          "name": "stdout",
          "text": [
            "[1, 2, 3, 4, 5]\n"
          ]
        }
      ]
    },
    {
      "cell_type": "markdown",
      "source": [
        "5. Write a Python program to get the length of the array. Original array: numbers = [5, 4, 3, 2, 1]"
      ],
      "metadata": {
        "id": "Y-EeA6ce74PP"
      }
    },
    {
      "cell_type": "code",
      "source": [
        "array_numbers = [5, 4, 3, 2, 1]\n",
        "x =len(array_numbers)\n",
        "print(\"the lenght of af the array is:\",x)"
      ],
      "metadata": {
        "colab": {
          "base_uri": "https://localhost:8080/"
        },
        "id": "_-I5ZG6n9-as",
        "outputId": "2f4612ca-528b-486a-f45f-b414f96d073c"
      },
      "execution_count": 21,
      "outputs": [
        {
          "output_type": "stream",
          "name": "stdout",
          "text": [
            "the lenght of af the array is: 5\n"
          ]
        }
      ]
    }
  ]
}