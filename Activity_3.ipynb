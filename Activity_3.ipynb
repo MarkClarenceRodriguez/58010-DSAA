{
  "nbformat": 4,
  "nbformat_minor": 0,
  "metadata": {
    "colab": {
      "provenance": [],
      "authorship_tag": "ABX9TyMt8a1ux0lKe2GejUtBym/u",
      "include_colab_link": true
    },
    "kernelspec": {
      "name": "python3",
      "display_name": "Python 3"
    },
    "language_info": {
      "name": "python"
    }
  },
  "cells": [
    {
      "cell_type": "markdown",
      "metadata": {
        "id": "view-in-github",
        "colab_type": "text"
      },
      "source": [
        "<a href=\"https://colab.research.google.com/github/MarkClarenceRodriguez/58010-DSAA/blob/main/Activity_3.ipynb\" target=\"_parent\"><img src=\"https://colab.research.google.com/assets/colab-badge.svg\" alt=\"Open In Colab\"/></a>"
      ]
    },
    {
      "cell_type": "code",
      "source": [
        "# Stack implementation in python\n",
        "# Creating a stack\n",
        "def create_stack():\n",
        "    stack = []\n",
        "    return stack\n",
        "# Creating an empty stack\n",
        "def is_empty(stack):\n",
        "    return len(stack) == 0\n",
        "# Adding items into the stack\n",
        "def push(stack, item):\n",
        "    stack.append(item)\n",
        "    print(\"Pushed Element: \" + item)\n",
        "# Removing an element from the stack\n",
        "def pop(stack):\n",
        "    if (is_empty(stack)):\n",
        "        return \"The stack is empty\"\n",
        "    return stack.pop()\n",
        "stack = create_stack()\n",
        "push(stack, str(1))\n",
        "push(stack, str(2))\n",
        "push(stack, str(3))\n",
        "push(stack, str(4))\n",
        "push(stack, str(5))\n",
        "print(\"The elements in the stack are:\"+ str(stack))\n",
        "\n",
        "print(stack.pop())\n",
        "print(\"The elements in the stack are:\"+ str(stack))\n",
        "print(stack.pop())\n",
        "print(\"The elements in the stack are:\"+ str(stack))\n",
        "print(stack.pop())\n",
        "print(\"The elements in the stack are:\"+ str(stack))\n",
        "\n",
        "def stack_length(stack):\n",
        "  return len(stack)\n",
        "\n",
        "length = stack_length(stack)\n",
        "print(\"The length of the stack is:\", length)"
      ],
      "metadata": {
        "colab": {
          "base_uri": "https://localhost:8080/"
        },
        "id": "Jrjkj3yIHPH1",
        "outputId": "e99abc26-0f9c-41a7-b256-e4eb6b40b471"
      },
      "execution_count": 18,
      "outputs": [
        {
          "output_type": "stream",
          "name": "stdout",
          "text": [
            "Pushed Element: 1\n",
            "Pushed Element: 2\n",
            "Pushed Element: 3\n",
            "Pushed Element: 4\n",
            "Pushed Element: 5\n",
            "The elements in the stack are:['1', '2', '3', '4', '5']\n",
            "5\n",
            "The elements in the stack are:['1', '2', '3', '4']\n",
            "4\n",
            "The elements in the stack are:['1', '2', '3']\n",
            "3\n",
            "The elements in the stack are:['1', '2']\n",
            "The length of the stack is: 2\n"
          ]
        }
      ]
    }
  ]
}