{
  "nbformat": 4,
  "nbformat_minor": 0,
  "metadata": {
    "colab": {
      "provenance": [],
      "authorship_tag": "ABX9TyPRugJI4r/6/IMS2coAGJlS",
      "include_colab_link": true
    },
    "kernelspec": {
      "name": "python3",
      "display_name": "Python 3"
    },
    "language_info": {
      "name": "python"
    }
  },
  "cells": [
    {
      "cell_type": "markdown",
      "metadata": {
        "id": "view-in-github",
        "colab_type": "text"
      },
      "source": [
        "<a href=\"https://colab.research.google.com/github/MarkClarenceRodriguez/58010-DSAA/blob/main/LongQuiz2.ipynb\" target=\"_parent\"><img src=\"https://colab.research.google.com/assets/colab-badge.svg\" alt=\"Open In Colab\"/></a>"
      ]
    },
    {
      "cell_type": "code",
      "execution_count": 2,
      "metadata": {
        "colab": {
          "base_uri": "https://localhost:8080/"
        },
        "id": "0a-yL0I-Z-yr",
        "outputId": "9fa2dead-782c-457f-d57b-551bb92941f0"
      },
      "outputs": [
        {
          "output_type": "stream",
          "name": "stdout",
          "text": [
            "['E', 'F', 'H', 'I', 'J', 'K', 'M', 'P']\n"
          ]
        }
      ],
      "source": [
        "class graph:\n",
        "   def __init__(self,gdict=None):\n",
        "      if gdict is None:\n",
        "         gdict = []\n",
        "      self.gdict = gdict\n",
        "\n",
        "   def getVertices(self):\n",
        "      return list(self.gdict.keys())\n",
        "\n",
        "graph_elements = {\n",
        "    \"E\" : [\"I\",\"J\", \"K\",\"M\"],\n",
        "    \"F\" : [\"I\",\"J\", \"K\",\"p\"],\n",
        "    \"H\" : [\"I\",\"J\", \"K\"],\n",
        "    \"I\" : [\"E\",\"F\", \"H\"],\n",
        "    \"J\" : [\"E\",\"F\", \"H\"],\n",
        "    \"K\" : [\"E\",\"F\", \"H\"],\n",
        "    \"M\" : [\"E\"],\n",
        "    \"P\" : [\"F\"]\n",
        "}\n",
        "g = graph(graph_elements)\n",
        "print(g.getVertices())"
      ]
    },
    {
      "cell_type": "code",
      "source": [
        "class graph:\n",
        "  def __init__(self,gdict=None):\n",
        "    if gdict is None:\n",
        "      gdict = {}\n",
        "    self.gdict = gdict\n",
        "\n",
        "  def edges(self):\n",
        "    return self.findedges()\n",
        "\n",
        "  def findedges(self):\n",
        "    edgename = []\n",
        "    for vrtx in self.gdict:\n",
        "      for nxtvrtx in self.gdict[vrtx]:\n",
        "        if {nxtvrtx, vrtx} not in edgename:\n",
        "           edgename.append({vrtx, nxtvrtx})\n",
        "    return edgename\n",
        "\n",
        "graph_elements = {\n",
        "    \"E\" : [\"I\",\"J\", \"K\",\"M\"],\n",
        "    \"F\" : [\"I\",\"J\", \"K\",\"p\"],\n",
        "    \"H\" : [\"I\",\"J\", \"K\"],\n",
        "    \"I\" : [\"E\",\"F\", \"H\"],\n",
        "    \"J\" : [\"E\",\"F\", \"H\"],\n",
        "    \"K\" : [\"E\",\"F\", \"H\"],\n",
        "    \"M\" : [\"E\"],\n",
        "    \"P\" : [\"F\"]\n",
        "}\n",
        "g = graph(graph_elements)\n",
        "print(g.edges())"
      ],
      "metadata": {
        "colab": {
          "base_uri": "https://localhost:8080/"
        },
        "id": "eq3Pk2w2aKzT",
        "outputId": "e8dda271-00ea-46e1-c57e-b431ecee8899"
      },
      "execution_count": 3,
      "outputs": [
        {
          "output_type": "stream",
          "name": "stdout",
          "text": [
            "[{'E', 'I'}, {'E', 'J'}, {'E', 'K'}, {'E', 'M'}, {'I', 'F'}, {'J', 'F'}, {'K', 'F'}, {'F', 'p'}, {'I', 'H'}, {'J', 'H'}, {'K', 'H'}, {'F', 'P'}]\n"
          ]
        }
      ]
    }
  ]
}