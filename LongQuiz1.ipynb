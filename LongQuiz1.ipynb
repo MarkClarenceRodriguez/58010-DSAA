{
  "nbformat": 4,
  "nbformat_minor": 0,
  "metadata": {
    "colab": {
      "provenance": [],
      "authorship_tag": "ABX9TyNOkVz3ZVHGyCRuFdWz1QNc",
      "include_colab_link": true
    },
    "kernelspec": {
      "name": "python3",
      "display_name": "Python 3"
    },
    "language_info": {
      "name": "python"
    }
  },
  "cells": [
    {
      "cell_type": "markdown",
      "metadata": {
        "id": "view-in-github",
        "colab_type": "text"
      },
      "source": [
        "<a href=\"https://colab.research.google.com/github/MarkClarenceRodriguez/58010-DSAA/blob/main/LongQuiz1.ipynb\" target=\"_parent\"><img src=\"https://colab.research.google.com/assets/colab-badge.svg\" alt=\"Open In Colab\"/></a>"
      ]
    },
    {
      "cell_type": "markdown",
      "source": [
        "Create a python or C++ program that appends each character of your full name and displays each character in reverse order"
      ],
      "metadata": {
        "id": "Wxrk3R8wJ_0f"
      }
    },
    {
      "cell_type": "code",
      "execution_count": null,
      "metadata": {
        "colab": {
          "base_uri": "https://localhost:8080/"
        },
        "id": "6vKftoiDJzmf",
        "outputId": "542ce264-fd70-4f81-effc-ccc9e14b3fe1"
      },
      "outputs": [
        {
          "output_type": "stream",
          "name": "stdout",
          "text": [
            "z\n",
            "e\n",
            "u\n",
            "g\n",
            "i\n",
            "r\n",
            "d\n",
            "o\n",
            "R\n",
            " \n",
            ".\n",
            "R\n",
            " \n",
            "e\n",
            "c\n",
            "n\n",
            "e\n",
            "r\n",
            "a\n",
            "l\n",
            "C\n",
            " \n",
            "k\n",
            "r\n",
            "a\n",
            "M\n"
          ]
        }
      ],
      "source": [
        "full_name = \"Mark Clarence R. Rodriguez\"\n",
        "\n",
        "characters = []\n",
        "\n",
        "for char in full_name:\n",
        "  characters.append(char)\n",
        "\n",
        "for char in reversed(characters):\n",
        "    print(char)"
      ]
    },
    {
      "cell_type": "markdown",
      "source": [
        "Using the set of positive whole numbers from 1 to 10, create a python or C++ program that displays if it is prime or composite."
      ],
      "metadata": {
        "id": "mO5-y708Ta_J"
      }
    },
    {
      "cell_type": "code",
      "source": [
        "def is_prime(num):\n",
        "    if num <= 1:\n",
        "        return False\n",
        "    if num <= 3:\n",
        "        return True\n",
        "    if num % 2 == 0 or num % 3 == 0:\n",
        "        return False\n",
        "    i = 5\n",
        "    while i * i <= num:\n",
        "        if num % i == 0 or num % (i + 2) == 0:\n",
        "            return False\n",
        "        i += 6\n",
        "    return True\n",
        "\n",
        "for i in range(1, 11):\n",
        "    if is_prime(i):\n",
        "        print(f\"{i} is prime.\")\n",
        "    else:\n",
        "        print(f\"{i} is composite.\")"
      ],
      "metadata": {
        "id": "y1S2SC2SSx1Z",
        "outputId": "5fd8ac29-63d8-4690-a0eb-3b2d92878b48",
        "colab": {
          "base_uri": "https://localhost:8080/"
        }
      },
      "execution_count": 10,
      "outputs": [
        {
          "output_type": "stream",
          "name": "stdout",
          "text": [
            "1 is composite.\n",
            "2 is prime.\n",
            "3 is prime.\n",
            "4 is composite.\n",
            "5 is prime.\n",
            "6 is composite.\n",
            "7 is prime.\n",
            "8 is composite.\n",
            "9 is composite.\n",
            "10 is composite.\n"
          ]
        }
      ]
    }
  ]
}