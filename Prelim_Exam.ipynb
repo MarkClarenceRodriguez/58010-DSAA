{
  "nbformat": 4,
  "nbformat_minor": 0,
  "metadata": {
    "colab": {
      "provenance": [],
      "authorship_tag": "ABX9TyOZz5vJrA0xF5qCslOzLkz8",
      "include_colab_link": true
    },
    "kernelspec": {
      "name": "python3",
      "display_name": "Python 3"
    },
    "language_info": {
      "name": "python"
    }
  },
  "cells": [
    {
      "cell_type": "markdown",
      "metadata": {
        "id": "view-in-github",
        "colab_type": "text"
      },
      "source": [
        "<a href=\"https://colab.research.google.com/github/MarkClarenceRodriguez/58010-DSAA/blob/main/Prelim_Exam.ipynb\" target=\"_parent\"><img src=\"https://colab.research.google.com/assets/colab-badge.svg\" alt=\"Open In Colab\"/></a>"
      ]
    },
    {
      "cell_type": "markdown",
      "source": [
        "1.Open your Python (Pycharm or Colab) or Dev C++ to create the source code for adding the test scores 26, 49, 98, 87, 62, 75 (30 points)\n",
        "\n",
        "2.Create a program to sort the test scores in ascending order (20 points)\n",
        "\n",
        "3.Draw the appropriate flowchart and save it as a pdf (format: Prelim.pdf) that should be uploaded here. (20 points)\n",
        "\n",
        "4. Save your source code as Prelim Exam (Prelim Exam.ipynb/ Prelim Exam.py) in your GitHub\n",
        "\n",
        "5. Send your GitHub link here before submitting."
      ],
      "metadata": {
        "id": "CR4ucsP6Vvic"
      }
    },
    {
      "cell_type": "code",
      "execution_count": 2,
      "metadata": {
        "colab": {
          "base_uri": "https://localhost:8080/"
        },
        "id": "LsPdEYnZSW_o",
        "outputId": "ebe6dd6e-0a42-4cbc-9f8c-25036fa4cb65"
      },
      "outputs": [
        {
          "output_type": "stream",
          "name": "stdout",
          "text": [
            "The sum of test scores is: 397\n",
            "Sorted test scores in ascending order: [26, 49, 62, 75, 87, 98]\n"
          ]
        }
      ],
      "source": [
        "\n",
        "test_scores = [26, 49, 98, 87, 62, 75]\n",
        "\n",
        "total_score = sum(test_scores)\n",
        "\n",
        "sorted_scores = sorted(test_scores)\n",
        "\n",
        "print(\"The sum of test scores is:\", total_score)\n",
        "print(\"Sorted test scores in ascending order:\", sorted_scores)\n"
      ]
    }
  ]
}