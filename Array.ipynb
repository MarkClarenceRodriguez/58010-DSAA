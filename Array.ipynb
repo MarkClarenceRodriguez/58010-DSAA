{
  "nbformat": 4,
  "nbformat_minor": 0,
  "metadata": {
    "colab": {
      "provenance": [],
      "authorship_tag": "ABX9TyOEN6SkJrtDmfGW1D3W1A1B",
      "include_colab_link": true
    },
    "kernelspec": {
      "name": "python3",
      "display_name": "Python 3"
    },
    "language_info": {
      "name": "python"
    }
  },
  "cells": [
    {
      "cell_type": "markdown",
      "metadata": {
        "id": "view-in-github",
        "colab_type": "text"
      },
      "source": [
        "<a href=\"https://colab.research.google.com/github/MarkClarenceRodriguez/58010-DSAA/blob/main/Array.ipynb\" target=\"_parent\"><img src=\"https://colab.research.google.com/assets/colab-badge.svg\" alt=\"Open In Colab\"/></a>"
      ]
    },
    {
      "cell_type": "markdown",
      "source": [
        "Accesing the Elements in the Array"
      ],
      "metadata": {
        "id": "1X4f_9pgt4KK"
      }
    },
    {
      "cell_type": "code",
      "execution_count": 1,
      "metadata": {
        "colab": {
          "base_uri": "https://localhost:8080/"
        },
        "id": "8W51Yb0CrhgT",
        "outputId": "26a6c0a1-92db-4b72-dbb9-a88999fc1d1d"
      },
      "outputs": [
        {
          "output_type": "stream",
          "name": "stdout",
          "text": [
            "cat\n"
          ]
        }
      ],
      "source": [
        "animals = [\"cat\", \"dog\", \"fish\"]\n",
        "x = animals[0]\n",
        "print(x)\n"
      ]
    },
    {
      "cell_type": "markdown",
      "source": [
        "Modifying the Elements in the Array"
      ],
      "metadata": {
        "id": "mB6ffjCOvHPg"
      }
    },
    {
      "cell_type": "code",
      "source": [
        "animals = [\"cat\", \"dog\", \"fish\"]\n",
        "animals[0] = \"monkey\"\n",
        "print(x)"
      ],
      "metadata": {
        "colab": {
          "base_uri": "https://localhost:8080/"
        },
        "id": "RGfQE4SUvGHg",
        "outputId": "651e7ae5-539b-49bd-b4d4-f1592429f080"
      },
      "execution_count": 5,
      "outputs": [
        {
          "output_type": "stream",
          "name": "stdout",
          "text": [
            "cat\n"
          ]
        }
      ]
    },
    {
      "cell_type": "markdown",
      "source": [
        "Length of an Array"
      ],
      "metadata": {
        "id": "8W7acBcpv0iI"
      }
    },
    {
      "cell_type": "code",
      "source": [
        "animals = [\"cat\", \"dog\", \"fish\"]\n",
        "x = len(animals)\n",
        "print(x)"
      ],
      "metadata": {
        "colab": {
          "base_uri": "https://localhost:8080/"
        },
        "id": "h7ZpvwZuv3yn",
        "outputId": "f8099f42-05ad-4be2-93a5-200494812ebb"
      },
      "execution_count": 6,
      "outputs": [
        {
          "output_type": "stream",
          "name": "stdout",
          "text": [
            "3\n"
          ]
        }
      ]
    },
    {
      "cell_type": "markdown",
      "source": [
        "Looping Array Elements"
      ],
      "metadata": {
        "id": "x9T8rpCOwL13"
      }
    },
    {
      "cell_type": "code",
      "source": [
        "animals = [\"cat\", \"dog\", \"fish\"]\n",
        "for x in animals:\n",
        "  print(x)"
      ],
      "metadata": {
        "colab": {
          "base_uri": "https://localhost:8080/"
        },
        "id": "Um6QdjifwTCv",
        "outputId": "71f8445d-debf-46cd-d2fa-1add21d4eda2"
      },
      "execution_count": 7,
      "outputs": [
        {
          "output_type": "stream",
          "name": "stdout",
          "text": [
            "cat\n",
            "dog\n",
            "fish\n"
          ]
        }
      ]
    },
    {
      "cell_type": "markdown",
      "source": [
        "Adding Elements in the Array"
      ],
      "metadata": {
        "id": "0PuLsKQxwnJo"
      }
    },
    {
      "cell_type": "code",
      "source": [
        "animals = [\"cat\", \"dog\", \"fish\"]\n",
        "animals.append(\"monkey\")\n",
        "print(animals)"
      ],
      "metadata": {
        "colab": {
          "base_uri": "https://localhost:8080/"
        },
        "id": "RBjZVLOZwrou",
        "outputId": "9bf6908e-42d4-48d0-dcbf-6034582df207"
      },
      "execution_count": 8,
      "outputs": [
        {
          "output_type": "stream",
          "name": "stdout",
          "text": [
            "['cat', 'dog', 'fish', 'monkey']\n"
          ]
        }
      ]
    },
    {
      "cell_type": "markdown",
      "source": [
        "Removing an Element in the Array"
      ],
      "metadata": {
        "id": "ZPzmxqPlw9ue"
      }
    },
    {
      "cell_type": "code",
      "source": [
        "animals = [\"cat\", \"dog\", \"fish\"]\n",
        "animals.pop(1)\n",
        "print(animals)"
      ],
      "metadata": {
        "colab": {
          "base_uri": "https://localhost:8080/"
        },
        "id": "b003OYGpxCul",
        "outputId": "c9027922-6489-41d2-f8d9-1c75f14304ab"
      },
      "execution_count": 9,
      "outputs": [
        {
          "output_type": "stream",
          "name": "stdout",
          "text": [
            "['cat', 'fish']\n"
          ]
        }
      ]
    },
    {
      "cell_type": "code",
      "source": [
        "animals = [\"cat\", \"dog\", \"fish\"]\n",
        "animals.append(\"monkey\")\n",
        "print(animals)\n",
        "x = len(animals)\n",
        "print(x)"
      ],
      "metadata": {
        "colab": {
          "base_uri": "https://localhost:8080/"
        },
        "id": "YjWvDLHCz-Cw",
        "outputId": "c389ef8b-768c-4df0-be49-da41b469c6b0"
      },
      "execution_count": 11,
      "outputs": [
        {
          "output_type": "stream",
          "name": "stdout",
          "text": [
            "['cat', 'dog', 'fish', 'monkey']\n",
            "4\n"
          ]
        }
      ]
    },
    {
      "cell_type": "markdown",
      "source": [
        "Ascending Order"
      ],
      "metadata": {
        "id": "RmGbmgnQ2qku"
      }
    },
    {
      "cell_type": "code",
      "source": [
        "animals = [\"monkey\", \"dog\", \"fish\", \"cat\"]\n",
        "animals.sort()\n",
        "print(animals)\n"
      ],
      "metadata": {
        "colab": {
          "base_uri": "https://localhost:8080/"
        },
        "id": "ZiZQ35ho2a8m",
        "outputId": "b7366d30-3fac-437b-a13b-c05328568bb5"
      },
      "execution_count": 23,
      "outputs": [
        {
          "output_type": "stream",
          "name": "stdout",
          "text": [
            "['cat', 'dog', 'fish', 'monkey']\n"
          ]
        }
      ]
    }
  ]
}