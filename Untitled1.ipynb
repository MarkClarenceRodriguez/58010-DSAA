{
  "nbformat": 4,
  "nbformat_minor": 0,
  "metadata": {
    "colab": {
      "provenance": [],
      "authorship_tag": "ABX9TyMiQfqTZEzpzruq8v4PYV25",
      "include_colab_link": true
    },
    "kernelspec": {
      "name": "python3",
      "display_name": "Python 3"
    },
    "language_info": {
      "name": "python"
    }
  },
  "cells": [
    {
      "cell_type": "markdown",
      "metadata": {
        "id": "view-in-github",
        "colab_type": "text"
      },
      "source": [
        "<a href=\"https://colab.research.google.com/github/MarkClarenceRodriguez/58010-DSAA/blob/main/Untitled1.ipynb\" target=\"_parent\"><img src=\"https://colab.research.google.com/assets/colab-badge.svg\" alt=\"Open In Colab\"/></a>"
      ]
    },
    {
      "cell_type": "markdown",
      "source": [
        "Create a python or C++ program that appends each character of your full name and displays each character in reverse order\n"
      ],
      "metadata": {
        "id": "rmVn2em5XUhb"
      }
    },
    {
      "cell_type": "code",
      "execution_count": 9,
      "metadata": {
        "colab": {
          "base_uri": "https://localhost:8080/"
        },
        "id": "PyTl-WkcUnDU",
        "outputId": "0c761763-4358-46e3-aa1f-ccf7384d34ca"
      },
      "outputs": [
        {
          "output_type": "stream",
          "name": "stdout",
          "text": [
            "Full Name: Abigail Ashley P. Cayco\n",
            "['o', 'c', 'y', 'a', 'C', ' ', '.', 'P', ' ', 'y', 'e', 'l', 'h', 's', 'A', ' ', 'l', 'i', 'a', 'g', 'i', 'b', 'A']\n"
          ]
        }
      ],
      "source": [
        "print(\"Full Name: Abigail Ashley P. Cayco\")\n",
        "array_char = []\n",
        "for char in \"Abigail Ashley P. Cayco\":\n",
        "  array_char.append(char)\n",
        "array_char.reverse()\n",
        "print(array_char)"
      ]
    },
    {
      "cell_type": "markdown",
      "source": [
        "Using the set of positive whole numbers from 1 to 10, create a python or C++ program that displays if it is prime or composite"
      ],
      "metadata": {
        "id": "HI_9vPWqZCMb"
      }
    },
    {
      "cell_type": "code",
      "source": [
        "if is_prime(num):\n",
        "  if num <= 1:\n",
        "    return False\n",
        "  elif num <= 3:\n",
        "    return True\n",
        "  elif num % 2 == 0 or num % 3 == 0:\n",
        "    return False\n",
        "  i = 5\n",
        "  while i * i <= nume:\n",
        "    if num % i == 0 or num % (i + 2) == 0:\n",
        "      return False\n",
        "    i += 6\n",
        "  return True\n",
        "\n",
        "numbers = [1, 2, 3, 4, 5, 6, 7, 8, 9, 10]\n",
        "\n",
        "for num in numbers:\n",
        "  if is_prime(num):\n",
        "    print(f\"{num} is prime number\")\n",
        "  else:\n",
        "    print(f\"{num} is a composite number\")\n"
      ],
      "metadata": {
        "colab": {
          "base_uri": "https://localhost:8080/"
        },
        "id": "dqbeSQgPZE9r",
        "outputId": "35d60f12-8721-4962-8e4f-f2fb7644973f"
      },
      "execution_count": 11,
      "outputs": [
        {
          "output_type": "error",
          "ename": "SyntaxError",
          "evalue": "ignored",
          "traceback": [
            "\u001b[0;36m  File \u001b[0;32m\"<ipython-input-11-66cf57e185a2>\"\u001b[0;36m, line \u001b[0;32m3\u001b[0m\n\u001b[0;31m    return False\u001b[0m\n\u001b[0m    ^\u001b[0m\n\u001b[0;31mSyntaxError\u001b[0m\u001b[0;31m:\u001b[0m 'return' outside function\n"
          ]
        }
      ]
    },
    {
      "cell_type": "code",
      "source": [],
      "metadata": {
        "id": "5l4IwoY7hLYc"
      },
      "execution_count": null,
      "outputs": []
    }
  ]
}