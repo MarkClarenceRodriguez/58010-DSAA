{
  "nbformat": 4,
  "nbformat_minor": 0,
  "metadata": {
    "colab": {
      "provenance": [],
      "authorship_tag": "ABX9TyNl/gSubjTpMT9nkOBGqV4R",
      "include_colab_link": true
    },
    "kernelspec": {
      "name": "python3",
      "display_name": "Python 3"
    },
    "language_info": {
      "name": "python"
    }
  },
  "cells": [
    {
      "cell_type": "markdown",
      "metadata": {
        "id": "view-in-github",
        "colab_type": "text"
      },
      "source": [
        "<a href=\"https://colab.research.google.com/github/MarkClarenceRodriguez/58010-DSAA/blob/main/Display_Graph_Edges_and_Vertices.ipynb\" target=\"_parent\"><img src=\"https://colab.research.google.com/assets/colab-badge.svg\" alt=\"Open In Colab\"/></a>"
      ]
    },
    {
      "cell_type": "code",
      "execution_count": 3,
      "metadata": {
        "colab": {
          "base_uri": "https://localhost:8080/"
        },
        "id": "aCqDfZ9rtpd_",
        "outputId": "7cc06fd4-863c-4ecb-cd4d-e4c915babad6"
      },
      "outputs": [
        {
          "output_type": "stream",
          "name": "stdout",
          "text": [
            "[{'s', 'q'}, {'q', 't'}, {'w', 'q'}, {'u', 'r'}, {'y', 'r'}, {'s', 'v'}, {'x', 't'}, {'y', 't'}, {'u', 'y'}, {'w', 'v'}, {'s', 'w'}, {'x', 'z'}, {'q', 'y'}]\n"
          ]
        }
      ],
      "source": [
        "#Display Graph Edges\n",
        "\n",
        "class graph:\n",
        "   def __init__(self,gdict=None):\n",
        "      if gdict is None:\n",
        "         gdict = {}\n",
        "      self.gdict = gdict\n",
        "\n",
        "   def edges(self):\n",
        "      return self.findedges()\n",
        "# Find the distinct list of edges\n",
        "   def findedges(self):\n",
        "      edgename = []\n",
        "      for vrtx in self.gdict:\n",
        "         for nxtvrtx in self.gdict[vrtx]:\n",
        "            if {nxtvrtx, vrtx} not in edgename:\n",
        "               edgename.append({vrtx, nxtvrtx})\n",
        "      return edgename\n",
        "# Create the dictionary with graph elements\n",
        "graph_elements = {\n",
        "   \"q\" : [\"s\",\"t\",\"w\"],\n",
        "   \"r\" : [\"u\", \"y\"],\n",
        "   \"s\" : [\"v\"],\n",
        "   \"t\" : [\"x\",\"y\"],\n",
        "   \"u\" : [\"y\"],\n",
        "   \"v\" : [\"w\"],\n",
        "   \"w\" : [\"s\"],\n",
        "   \"x\" : [\"z\"],\n",
        "   \"y\" : [\"q\"],\n",
        "   \"z\" : [\"x\"]\n",
        "}\n",
        "g = graph(graph_elements)\n",
        "print(g.edges())"
      ]
    },
    {
      "cell_type": "code",
      "source": [
        "#Display Graph Vertices\n",
        "\n",
        "class graph:\n",
        "   def __init__(self,gdict=None):\n",
        "      if gdict is None:\n",
        "         gdict = []\n",
        "      self.gdict = gdict\n",
        "# Get the keys of the dictionary\n",
        "   def getVertices(self):\n",
        "      return list(self.gdict.keys())\n",
        "# Create the dictionary with graph elements\n",
        "graph_elements = {\n",
        "   \"q\" : [\"s\",\"t\",\"w\"],\n",
        "   \"r\" : [\"u\", \"y\"],\n",
        "   \"s\" : [\"v\"],\n",
        "   \"t\" : [\"x\",\"y\"],\n",
        "   \"u\" : [\"y\"],\n",
        "   \"v\" : [\"w\"],\n",
        "   \"w\" : [\"s\"],\n",
        "   \"x\" : [\"z\"],\n",
        "   \"y\" : [\"q\"],\n",
        "   \"z\" : [\"x\"]\n",
        "}\n",
        "g = graph(graph_elements)\n",
        "print(g.getVertices())"
      ],
      "metadata": {
        "colab": {
          "base_uri": "https://localhost:8080/"
        },
        "id": "ML4Oi0XntusE",
        "outputId": "0de313e1-d268-4023-9930-22323e7d5bfb"
      },
      "execution_count": 4,
      "outputs": [
        {
          "output_type": "stream",
          "name": "stdout",
          "text": [
            "['q', 'r', 's', 't', 'u', 'v', 'w', 'x', 'y', 'z']\n"
          ]
        }
      ]
    }
  ]
}