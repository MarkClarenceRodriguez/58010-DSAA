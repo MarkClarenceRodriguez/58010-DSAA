{
  "nbformat": 4,
  "nbformat_minor": 0,
  "metadata": {
    "colab": {
      "provenance": [],
      "authorship_tag": "ABX9TyMg3EXruHki1PYyKTMB2Hs2",
      "include_colab_link": true
    },
    "kernelspec": {
      "name": "python3",
      "display_name": "Python 3"
    },
    "language_info": {
      "name": "python"
    }
  },
  "cells": [
    {
      "cell_type": "markdown",
      "metadata": {
        "id": "view-in-github",
        "colab_type": "text"
      },
      "source": [
        "<a href=\"https://colab.research.google.com/github/MarkClarenceRodriguez/58010-DSAA/blob/main/Linked_Lists.ipynb\" target=\"_parent\"><img src=\"https://colab.research.google.com/assets/colab-badge.svg\" alt=\"Open In Colab\"/></a>"
      ]
    },
    {
      "cell_type": "code",
      "execution_count": 1,
      "metadata": {
        "colab": {
          "base_uri": "https://localhost:8080/",
          "height": 36
        },
        "id": "x3PQK6WQRRCr",
        "outputId": "2df216ba-d4a1-456d-e933-1a691170d747"
      },
      "outputs": [
        {
          "output_type": "execute_result",
          "data": {
            "text/plain": [
              "'f'"
            ],
            "application/vnd.google.colaboratory.intrinsic+json": {
              "type": "string"
            }
          },
          "metadata": {},
          "execution_count": 1
        }
      ],
      "source": [
        "import array\n",
        "array.typecodes #get all typecodes\n",
        "a = array.array('i', [1,2,3,4,5,6,]) #initializing array a\n",
        "b = array.array('f', [1.5,2.5,3.5,4.5,5.5,6.5,]) #initializing array b\n",
        "a.typecode #getting the typecode of a\n",
        "b.typecode #gettimg the typecode of b"
      ]
    },
    {
      "cell_type": "code",
      "source": [
        "import array\n",
        "array.typecodes #get all typecodes\n",
        "a = array.array('f', [1,2,3,4,5,6,]) #initializing array a\n",
        "b = array.array('f', [1.5,2.5,3.5,4.5,5.5,6.5,]) #initializing array b\n",
        "a.typecode #getting the typecode of a\n",
        "b.typecode #gettimg the typecode of b"
      ],
      "metadata": {
        "colab": {
          "base_uri": "https://localhost:8080/",
          "height": 36
        },
        "id": "Ky11YCU7Sqmt",
        "outputId": "b40a6c77-1761-4057-868f-7c3c753702f6"
      },
      "execution_count": 3,
      "outputs": [
        {
          "output_type": "execute_result",
          "data": {
            "text/plain": [
              "'f'"
            ],
            "application/vnd.google.colaboratory.intrinsic+json": {
              "type": "string"
            }
          },
          "metadata": {},
          "execution_count": 3
        }
      ]
    },
    {
      "cell_type": "code",
      "source": [
        "from array import array # importing array from array module\n",
        "a= array('i',[4,5,6,7]) # initializing array\n",
        "a.insert(1,2) # inserting element: 2 at index: 1\n",
        "a # Printing array a array('i', [4, 2, 5, 6, 7])\n",
        "a.insert(-1,0) # insert element: 0 at index: -1\n",
        "a\n",
        "a.insert(10, -1) # insert element: -1 at index: 10, this is out of range\n",
        "a\n",
        "\n"
      ],
      "metadata": {
        "colab": {
          "base_uri": "https://localhost:8080/"
        },
        "id": "uW-DsA6pTHkL",
        "outputId": "19e3c9a5-21fa-46f2-8c56-cfe1610016ad"
      },
      "execution_count": 8,
      "outputs": [
        {
          "output_type": "execute_result",
          "data": {
            "text/plain": [
              "array('i', [4, 2, 5, 6, 0, 7, -1])"
            ]
          },
          "metadata": {},
          "execution_count": 8
        }
      ]
    },
    {
      "cell_type": "markdown",
      "source": [
        "Example 3"
      ],
      "metadata": {
        "id": "yqkxzQ_ueZoT"
      }
    },
    {
      "cell_type": "code",
      "source": [
        "# A simple Python program to introduce alinked list\n",
        "\n",
        "# Node class\n",
        "class Node:\n",
        "\n",
        "  # Function to initialize the node object\n",
        "  def __init__(self, data):\n",
        "    self.data = data # Assign data\n",
        "    self.next = None # Initialize next as null\n",
        "\n",
        "    # Linked List class contains a Node object\n",
        "\n",
        "class LinkedList:\n",
        "  # Function to initialize head\n",
        "  def __init__(self):\n",
        "    self.head = None"
      ],
      "metadata": {
        "id": "iTEMqt7UebiD"
      },
      "execution_count": 46,
      "outputs": []
    },
    {
      "cell_type": "markdown",
      "source": [
        "Example 4"
      ],
      "metadata": {
        "id": "4a1hzYA3WMWk"
      }
    },
    {
      "cell_type": "code",
      "source": [
        "# A simple Python program to introduce alinked list\n",
        "\n",
        "# Node class\n",
        "class Node:\n",
        "\n",
        "  # Function to initialize the node object\n",
        "  def __init__(self, data):\n",
        "    self.data = data # Assign data\n",
        "    self.next = None # Initialize next as null\n",
        "\n",
        "    # Linked List class contains a Node object\n",
        "\n",
        "class LinkedList:\n",
        "  # Function to initialize head\n",
        "  def __init__(self):\n",
        "    self.head = None\n",
        "  def printList(self):\n",
        "      temp = self.head\n",
        "      while(temp):\n",
        "        print(temp.data)\n",
        "        temp = temp.next\n",
        " # Code execution starts here\n",
        "if __name__=='__main__':\n",
        "\n",
        "      # Start with the empty list\n",
        "      llist = LinkedList()\n",
        "      llist.head = Node(1)\n",
        "      second = Node(2)\n",
        "      third = Node(3)\n",
        "      llist.head.next = second; # Linkfirst node with second\n",
        "      second.next = third; # Linksecond node with the third node\n",
        "\n",
        "print(llist.printList)\n",
        "\n"
      ],
      "metadata": {
        "colab": {
          "base_uri": "https://localhost:8080/"
        },
        "id": "RM0hLNRmWOmf",
        "outputId": "f0954f3a-f06d-45e7-982c-cd2964e7331b"
      },
      "execution_count": 62,
      "outputs": [
        {
          "output_type": "stream",
          "name": "stdout",
          "text": [
            "<bound method LinkedList.printList of <__main__.LinkedList object at 0x7de6865f8f10>>\n"
          ]
        }
      ]
    }
  ]
}