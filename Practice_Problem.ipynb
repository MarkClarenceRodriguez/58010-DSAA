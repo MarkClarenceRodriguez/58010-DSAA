{
  "nbformat": 4,
  "nbformat_minor": 0,
  "metadata": {
    "colab": {
      "provenance": [],
      "authorship_tag": "ABX9TyMmKP42+uFPR0nYX8F/PKY0",
      "include_colab_link": true
    },
    "kernelspec": {
      "name": "python3",
      "display_name": "Python 3"
    },
    "language_info": {
      "name": "python"
    }
  },
  "cells": [
    {
      "cell_type": "markdown",
      "metadata": {
        "id": "view-in-github",
        "colab_type": "text"
      },
      "source": [
        "<a href=\"https://colab.research.google.com/github/MarkClarenceRodriguez/58010-DSAA/blob/main/Practice_Problem.ipynb\" target=\"_parent\"><img src=\"https://colab.research.google.com/assets/colab-badge.svg\" alt=\"Open In Colab\"/></a>"
      ]
    },
    {
      "cell_type": "code",
      "execution_count": 7,
      "metadata": {
        "colab": {
          "base_uri": "https://localhost:8080/"
        },
        "id": "2LlgGu0pxWBe",
        "outputId": "bdd6428f-fbcb-4634-993d-35e196aebfd1"
      },
      "outputs": [
        {
          "output_type": "stream",
          "name": "stdout",
          "text": [
            "Total sum of even test scores is: 186\n"
          ]
        }
      ],
      "source": [
        "total = 0\n",
        "scores = [26, 49, 98, 87, 62, 75]\n",
        "for score in scores:\n",
        "   if score % 2 == 0:\n",
        "       total += score\n",
        "print(\"Total sum of even test scores is:\", total)"
      ]
    }
  ]
}